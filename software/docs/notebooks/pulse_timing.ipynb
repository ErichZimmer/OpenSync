{
 "cells": [
  {
   "cell_type": "markdown",
   "id": "2c53ef83-4e2a-4c73-b385-98cd5feb3010",
   "metadata": {},
   "source": [
    "# Pulse Timing and Plotting\n",
    "\n",
    "## Overview\n",
    "This document describes the procedures and methods for pulse timing and plotting typical of a Particle Image Velocimetry (PIV) experiment. PIV is an optical method of flow visualization used to obtain instantaneous velocity measurements and related properties in fluid flows. Accurate timing of pulsed illumination sources and imagining devices (e.g., cameras) is key for this measurement technique to work as intended. A timing device ensures that all comonents of a PIV experiment are operating at the intended frequency. The pulse pattern of a timing device directly contributes the performance of a PIV system. This is why it is important to understand how to create pulse patterns and create a visualization of them for further data-informed decisions.\n",
    "\n",
    "## Purpose\n",
    "This example creates a simple pulse sequence and plots it for visualization purposes. In a typical experiement, the pulse parameters will be loaded into an OpenSync device once they are deemed sufficient for the purpose of the experiment being performed. However, the loading and executing of pulse sequences will not be discussed in this document."
   ]
  },
  {
   "cell_type": "markdown",
   "id": "064bbdb1-6317-4a19-929d-9a2030e1065f",
   "metadata": {},
   "source": [
    "## Creating the Pulse Paramters\n",
    "There are several ways of creating pulse parameters of which the most simple one will be discussed below. The pulse sequence we are trying to model is a single camera and a dual-head flashlamp-pumped laser. A dual-head flashlamp-pumped laser consists of four inputs: flashlamp 1, flashlamp 2, q-switch 1, and q-switch 2. The flashlamps in this case need to be turned on 160 microseconds before the active q-switch and each pulse needs to be 50 microseconds wide. For the purposes of this demonstration, the itnerframe tiem between laser pulses will be 300 microseconds. The camera will be externally triggered so that the exposure is synchronized with the laser pulses. The exposure of the camera is internally set to 2,000 microseconds, so we do not have to worry about externally controlling the exposure. Finally, the external trigger for the camera must be 25 microseconds long."
   ]
  },
  {
   "cell_type": "markdown",
   "id": "418b0f87-84d0-4162-bc94-9a71ad051462",
   "metadata": {},
   "source": [
    "## Imports\n",
    "To begin, we need to import some functions from the package opensync and matplotlib"
   ]
  },
  {
   "cell_type": "code",
   "execution_count": 1,
   "id": "2daf35e9-7d28-4a78-8f22-5309348ff233",
   "metadata": {},
   "outputs": [],
   "source": [
    "from matplotlib import pyplot as plt\n",
    "from opensync import pulsing, graphing "
   ]
  },
  {
   "cell_type": "markdown",
   "id": "0e9a1e22-52a1-4cc7-991a-8c71061c93f3",
   "metadata": {},
   "source": [
    "## Create the Pulse Parameters Structure\n",
    "All pulse paramters in this instance are held using a dictionary structure. The dictionary structure contains information for external triggers, repetition rate, and the state of each channel."
   ]
  },
  {
   "cell_type": "code",
   "execution_count": 2,
   "id": "e11bc861-0b1f-4fa2-b048-c056700fab9f",
   "metadata": {},
   "outputs": [
    {
     "data": {
      "text/plain": [
       "{'pulse_id': 0,\n",
       " 'clock_id': 0,\n",
       " 'clock_divider': 1,\n",
       " 'channel_0': {'name': 'channel_0', 'data': []},\n",
       " 'channel_1': {'name': 'channel_1', 'data': []},\n",
       " 'channel_2': {'name': 'channel_2', 'data': []},\n",
       " 'channel_3': {'name': 'channel_3', 'data': []},\n",
       " 'channel_4': {'name': 'channel_4', 'data': []},\n",
       " 'channel_5': {'name': 'channel_5', 'data': []},\n",
       " 'channel_6': {'name': 'channel_6', 'data': []},\n",
       " 'channel_7': {'name': 'channel_7', 'data': []},\n",
       " 'channel_8': {'name': 'channel_8', 'data': []},\n",
       " 'channel_9': {'name': 'channel_9', 'data': []},\n",
       " 'channel_10': {'name': 'channel_10', 'data': []},\n",
       " 'channel_11': {'name': 'channel_11', 'data': []}}"
      ]
     },
     "execution_count": 2,
     "metadata": {},
     "output_type": "execute_result"
    }
   ],
   "source": [
    "pulse_params = pulsing.get_pulse_params()\n",
    "pulse_params"
   ]
  },
  {
   "cell_type": "markdown",
   "id": "d1c0708a-da89-4188-96fb-5b8503d845e4",
   "metadata": {},
   "source": [
    "## Populate the Pulse Paramters Structure\n",
    "With the structure created, we can now populate the necessary channels with the pulse information as needed."
   ]
  },
  {
   "cell_type": "code",
   "execution_count": 3,
   "id": "6178a87d-b853-4615-9a29-fb47d8f30598",
   "metadata": {},
   "outputs": [],
   "source": [
    "exposure = 2000\n",
    "exposure_blind_time = 50\n",
    "\n",
    "exposure_1_end = exposure\n",
    "exposure_2_start = exposure\n",
    "\n",
    "interframe_time = 300\n",
    "half_inter_time = interframe_time // 2\n",
    "\n",
    "flash_delay = 160\n",
    "ttl_pulse_width = 50\n",
    "\n",
    "# Camera pulse sequence\n",
    "pulse_params = pulsing.insert_pulse(\n",
    "    pulse_params,\n",
    "    0,\n",
    "    25,\n",
    "    channel_id=0,\n",
    "    channel_name='camera trigger'\n",
    ")\n",
    "\n",
    "# Camera exposure for visualization purposes\n",
    "pulse_params = pulsing.insert_pulse(\n",
    "    pulse_params,\n",
    "    0,\n",
    "    exposure_1_end,\n",
    "    exposure_2_start + exposure_blind_time,\n",
    "    exposure_2_start + exposure_blind_time + exposure,\n",
    "    channel_id=1,\n",
    "    channel_name='camera exposure'\n",
    ")\n",
    "\n",
    "# q-swtich 1\n",
    "pulse_params = pulsing.insert_pulse(\n",
    "    pulse_params,\n",
    "    exposure_1_end - half_inter_time,\n",
    "    exposure_1_end + ttl_pulse_width - half_inter_time,\n",
    "    channel_id=2,\n",
    "    channel_name='q-swtich 1'\n",
    ")\n",
    "\n",
    "# q-switch 2\n",
    "pulse_params = pulsing.insert_pulse(\n",
    "    pulse_params,\n",
    "    exposure_2_start + half_inter_time,\n",
    "    exposure_2_start + ttl_pulse_width + half_inter_time,\n",
    "    channel_id=3,\n",
    "    channel_name='q-swtich 2'\n",
    ")\n",
    "\n",
    "# flashlamp 1\n",
    "pulse_params = pulsing.insert_pulse(\n",
    "    pulse_params,\n",
    "    exposure_1_end - flash_delay - half_inter_time,\n",
    "    exposure_1_end - flash_delay + ttl_pulse_width - half_inter_time,\n",
    "    channel_id=4,\n",
    "    channel_name='flashlamp 1'\n",
    ")\n",
    "\n",
    "# flashlamp 2\n",
    "pulse_params = pulsing.insert_pulse(\n",
    "    pulse_params,\n",
    "    exposure_2_start - flash_delay + half_inter_time,\n",
    "    exposure_2_start - flash_delay + ttl_pulse_width + half_inter_time,\n",
    "    channel_id=5,\n",
    "    channel_name='flashlamp 2'\n",
    ")"
   ]
  },
  {
   "cell_type": "markdown",
   "id": "5d789fdb-5c95-45da-bdcb-1df6575ce1ee",
   "metadata": {},
   "source": [
    "## Plotting the Pulse Parameters\n",
    "To visualize the pulse paramters, we can create a plot and observe the results. The plotting utilities in OpenSync do not create matplotlib plotting instances, so we have to do that manually."
   ]
  },
  {
   "cell_type": "code",
   "execution_count": 4,
   "id": "7bb3a62b-4b5a-4869-b9a4-b9dbc90f9813",
   "metadata": {},
   "outputs": [
    {
     "data": {
      "image/png": "[encoded data removed]",
      "text/plain": [
       "<Figure size 640x480 with 1 Axes>"
      ]
     },
     "metadata": {},
     "output_type": "display_data"
    }
   ],
   "source": [
    "fig, ax = plt.subplots()\n",
    "graphing.get_pulse_plot(pulse_params, ax)\n",
    "fig.tight_layout()"
   ]
  },
  {
   "cell_type": "code",
   "execution_count": null,
   "id": "9017da35-c50a-472e-a33e-f865ee209802",
   "metadata": {},
   "outputs": [],
   "source": []
  }
 ],
 "metadata": {
  "kernelspec": {
   "display_name": "Python 3 (ipykernel)",
   "language": "python",
   "name": "python3"
  },
  "language_info": {
   "codemirror_mode": {
    "name": "ipython",
    "version": 3
   },
   "file_extension": ".py",
   "mimetype": "text/x-python",
   "name": "python",
   "nbconvert_exporter": "python",
   "pygments_lexer": "ipython3",
   "version": "3.12.8"
  }
 },
 "nbformat": 4,
 "nbformat_minor": 5
}
