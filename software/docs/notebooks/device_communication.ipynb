{
 "cells": [
  {
   "cell_type": "markdown",
   "id": "01804aa4-b906-4ae7-a26b-b7d758a9808a",
   "metadata": {},
   "source": [
    "# Device Communication\n",
    "\n",
    "## Overview\n",
    "This document covers the basics of device communication and configuration. OpenSync devices employ USB on-the-go (OTG), so no drivers are necessary to communicate with an OpenSync device. This is beneficial as device discovery revolves arounds a computer's ability to detect a USB device that is actively connected to the computer.\n",
    "\n",
    "## Purpose\n",
    "This example demonstrates how to search, connect, and \"talk\" to an OpenSync device. OpenSync relies on a stable USB connection, so make sure one is present for this demonstration."
   ]
  },
  {
   "cell_type": "markdown",
   "id": "957d6b8f-b96e-4621-832c-fa45269cc63b",
   "metadata": {},
   "source": [
    "## Imports\n",
    "To begin, import opensync and some of its modules."
   ]
  },
  {
   "cell_type": "code",
   "execution_count": 1,
   "id": "cba7fbad-6454-4c34-bed6-e471d279d9cf",
   "metadata": {},
   "outputs": [],
   "source": [
    "from opensync import communication as comm, system"
   ]
  },
  {
   "cell_type": "markdown",
   "id": "6290f546-7af6-480d-8e64-da796161eecc",
   "metadata": {},
   "source": [
    "## Device Connection\n",
    "We need to search for any OpenSync devices to connect to. This is performed by the function `device_comm_search`."
   ]
  },
  {
   "cell_type": "code",
   "execution_count": 2,
   "id": "29e36c55-54c9-47f9-83d5-0baea756b051",
   "metadata": {},
   "outputs": [
    {
     "data": {
      "text/plain": [
       "['COM6']"
      ]
     },
     "execution_count": 2,
     "metadata": {},
     "output_type": "execute_result"
    }
   ],
   "source": [
    "avail_ports = comm.device_comm_search()\n",
    "avail_ports"
   ]
  },
  {
   "cell_type": "markdown",
   "id": "1afe9e25-b7a3-4bda-ac16-2e8e0862657b",
   "metadata": {},
   "source": [
    "There are two ways we can open a connection once we found the correct port to connect to. We can manually manage the resources with `device_comm_open` and `device_comm_close` or use context managers to automatically manage resources with `device_comm_managed`. Both methods will be shown in this document. "
   ]
  },
  {
   "cell_type": "markdown",
   "id": "2bae0265-7de8-4f7e-b219-f198184f59f5",
   "metadata": {},
   "source": [
    "### Manually Open Device Connection\n"
   ]
  },
  {
   "cell_type": "code",
   "execution_count": 3,
   "id": "b2a6f273-072a-4688-8e62-843b1baefb64",
   "metadata": {},
   "outputs": [
    {
     "data": {
      "text/plain": [
       "Serial<id=0x1f8d772f190, open=True>(port='COM6', baudrate=19200, bytesize=8, parity='N', stopbits=1, timeout=0.25, xonxoff=False, rtscts=False, dsrdtr=False)"
      ]
     },
     "execution_count": 3,
     "metadata": {},
     "output_type": "execute_result"
    }
   ],
   "source": [
    "# Open USB port\n",
    "sync_device = comm.device_comm_open(avail_ports[0])\n",
    "sync_device"
   ]
  },
  {
   "cell_type": "code",
   "execution_count": 4,
   "id": "5b41533a-6471-4357-9181-81206029dbb8",
   "metadata": {},
   "outputs": [
    {
     "name": "stdout",
     "output_type": "stream",
     "text": [
      "['Version: 0.0.1a']\n",
      "['Run status: IDLE']\n"
     ]
    }
   ],
   "source": [
    "# Get device state and version\n",
    "print(system.device_get_version(sync_device))\n",
    "print(system.device_get_status(sync_device))"
   ]
  },
  {
   "cell_type": "code",
   "execution_count": 5,
   "id": "12651e79-ca0e-4ce1-a456-65e10d8f3aec",
   "metadata": {},
   "outputs": [],
   "source": [
    "# Close USB port\n",
    "comm.device_comm_close(sync_device)"
   ]
  },
  {
   "cell_type": "markdown",
   "id": "29fd2057-bd1b-4cc9-91a3-8c5cb4cb1dd2",
   "metadata": {},
   "source": [
    "### Open with Context Manager"
   ]
  },
  {
   "cell_type": "code",
   "execution_count": 6,
   "id": "df867e3e-e5d5-4540-a544-e76e7836ce69",
   "metadata": {},
   "outputs": [
    {
     "name": "stdout",
     "output_type": "stream",
     "text": [
      "['Version: 0.0.1a']\n",
      "['Run status: IDLE']\n"
     ]
    }
   ],
   "source": [
    "with comm.device_comm_managed(avail_ports[0]) as sync_device:\n",
    "    # Get device state and version\n",
    "    print(system.device_get_version(sync_device))\n",
    "    print(system.device_get_status(sync_device))"
   ]
  },
  {
   "cell_type": "markdown",
   "id": "24c9d278-a5a0-4c7d-9f6b-78fc794a1c1b",
   "metadata": {},
   "source": [
    "## Status Information\n",
    "OpenSync allows one to poll system status information even when running a pulse sequence. Below are the most commonly used requests."
   ]
  },
  {
   "cell_type": "code",
   "execution_count": 7,
   "id": "29a7d47c-ee68-4691-9e51-ca87e0b397dc",
   "metadata": {},
   "outputs": [
    {
     "name": "stdout",
     "output_type": "stream",
     "text": [
      "['Version: 0.0.1a']\n",
      "['Run status: IDLE']\n",
      "['pll_sys = 250000kHz', 'pll_usb = 48000kHz', 'rosc = 4970kHz', 'clk_sys = 250000kHz', 'clk_peri = 48000kHz', 'clk_usb = 48000kHz', 'clk_adc = 48000kHz', 'clk_rtc = 47kHz']\n"
     ]
    }
   ],
   "source": [
    "with comm.device_comm_managed(avail_ports[0]) as sync_device:\n",
    "    print(system.device_get_version(sync_device))\n",
    "    print(system.device_get_status(sync_device))\n",
    "    print(system.device_get_freq(sync_device))"
   ]
  },
  {
   "cell_type": "markdown",
   "id": "9974e0f1-43eb-4929-8b60-4566bd024857",
   "metadata": {},
   "source": [
    "## Executing Device Parameters\n",
    "Two of the more important functions for OpenSync are `device_system_fire` and `device_system_stop`. `device_system_fire` executes a pulse sequence with the current pulse and clock configrations. To prematurely stop a pulse sequence iteration, one can use `device_system_stop` and an abort signal will be sent to the OpenSync device. OpenSync allows for one to repeat a pulse sequence up to 500,000 times allowing for up to 500,000 image pairs to be collected during an experiment."
   ]
  },
  {
   "cell_type": "code",
   "execution_count": 9,
   "id": "983d5ab2-b574-48e6-abe5-0cdb995a1d63",
   "metadata": {},
   "outputs": [
    {
     "name": "stdout",
     "output_type": "stream",
     "text": [
      "['ok', 'Internal Message: Sequencer clock type (0=freerun; 1=triggered) = 0', 'Clock config ID: 0', 'Clock config sm: 0', 'Clock config DMA channel: 0', 'Pulse config clock divider: 1', 'Clock config clock pin: 16', 'Clock config trigger pin: 13', 'Clock instruction 0: reps=0, delay=0', 'Clock instruction 1: reps=0, delay=0', 'Clock instruction 2: reps=0, delay=0', 'Clock instruction 3: reps=0, delay=0', 'Clock instruction 4: reps=0, delay=0', 'Clock instruction 5: reps=0, delay=0', 'Clock instruction 6: reps=0, delay=0', 'Clock instruction 7: reps=0, delay=0', 'Clock instruction 8: reps=0, delay=0', 'Clock instruction 9: reps=0, delay=0', 'Clock instruction 10: reps=0, delay=0', 'Clock instruction 11: reps=0, delay=0', 'Clock instruction 12: reps=0, delay=0', 'Clock instruction 13: reps=0, delay=0', 'Clock instruction 14: reps=0, delay=0', 'Clock instruction 15: reps=0, delay=0', 'Clock instruction 16: reps=0, delay=0', 'Clock instruction 17: reps=0, delay=0', 'Clock instruction 18: reps=0, delay=0', 'Clock instruction 19: reps=0, delay=0', 'Clock instruction 20: reps=0, delay=0', 'Clock instruction 21: reps=0, delay=0', 'Clock instruction 22: reps=0, delay=0', 'Clock instruction 23: reps=0, delay=0', 'Clock instruction 24: reps=0, delay=0', 'Clock instruction 25: reps=0, delay=0', 'Clock instruction 26: reps=0, delay=0', 'Clock instruction 27: reps=0, delay=0', 'Clock instruction 28: reps=0, delay=0', 'Clock instruction 29: reps=0, delay=0', 'Clock instruction 30: reps=0, delay=0', 'Clock instruction 31: reps=0, delay=0', 'Trigger instruction 0: skips=0, delay=0', 'Clock config trigger reps: 0', 'Clock config is active: 0', 'Clock config ID: 1', 'Clock config sm: 1', 'Clock config DMA channel: 0', 'Pulse config clock divider: 1', 'Clock config clock pin: 17', 'Clock config trigger pin: 13', 'Clock instruction 0: reps=0, delay=0', 'Clock instruction 1: reps=0, delay=0', 'Clock instruction 2: reps=0, delay=0', 'Clock instruction 3: reps=0, delay=0', 'Clock instruction 4: reps=0, delay=0', 'Clock instruction 5: reps=0, delay=0', 'Clock instruction 6: reps=0, delay=0', 'Clock instruction 7: reps=0, delay=0', 'Clock instruction 8: reps=0, delay=0', 'Clock instruction 9: reps=0, delay=0', 'Clock instruction 10: reps=0, delay=0', 'Clock instruction 11: reps=0, delay=0', 'Clock instruction 12: reps=0, delay=0', 'Clock instruction 13: reps=0, delay=0', 'Clock instruction 14: reps=0, delay=0', 'Clock instruction 15: reps=0, delay=0', 'Clock instruction 16: reps=0, delay=0', 'Clock instruction 17: reps=0, delay=0', 'Clock instruction 18: reps=0, delay=0', 'Clock instruction 19: reps=0, delay=0', 'Clock instruction 20: reps=0, delay=0', 'Clock instruction 21: reps=0, delay=0', 'Clock instruction 22: reps=0, delay=0', 'Clock instruction 23: reps=0, delay=0', 'Clock instruction 24: reps=0, delay=0', 'Clock instruction 25: reps=0, delay=0', 'Clock instruction 26: reps=0, delay=0', 'Clock instruction 27: reps=0, delay=0', 'Clock instruction 28: reps=0, delay=0', 'Clock instruction 29: reps=0, delay=0', 'Clock instruction 30: reps=0, delay=0', 'Clock instruction 31: reps=0, delay=0', 'Trigger instruction 0: skips=0, delay=0', 'Clock config trigger reps: 0', 'Clock config is active: 0', 'Clock config ID: 2', 'Clock config sm: 2', 'Clock config DMA channel: 0', 'Pulse config clock divider: 1', 'Clock config clock pin: 18', 'Clock config trigger pin: 13', 'Clock instruction 0: reps=0, delay=0', 'Clock instruction 1: reps=0, delay=0', 'Clock instruction 2: reps=0, delay=0', 'Clock instruction 3: reps=0, delay=0', 'Clock instruction 4: reps=0, delay=0', 'Clock instruction 5: reps=0, delay=0', 'Clock instruction 6: reps=0, delay=0', 'Clock instruction 7: reps=0, delay=0', 'Clock instruction 8: reps=0, delay=0', 'Clock instruction 9: reps=0, delay=0', 'Clock instruction 10: reps=0, delay=0', 'Clock instruction 11: reps=0, delay=0', 'Clock instruction 12: reps=0, delay=0', 'Clock instruction 13: reps=0, delay=0', 'Clock instruction 14: reps=0, delay=0', 'Clock instruction 15: reps=0, delay=0', 'Clock instruction 16: reps=0, delay=0', 'Clock instruction 17: reps=0, delay=0', 'Clock instruction 18: reps=0, delay=0', 'Clock instruction 19: reps=0, delay=0', 'Clock instruction 20: reps=0, delay=0', 'Clock instruction 21: reps=0, delay=0', 'Clock instruction 22: reps=0, delay=0', 'Clock instruction 23: reps=0, delay=0', 'Clock instruction 24: reps=0, delay=0', 'Clock instruction 25: reps=0, delay=0', 'Clock instruction 26: reps=0, delay=0', 'Clock instruction 27: reps=0, delay=0', 'Clock instruction 28: reps=0, delay=0', 'Clock instruction 29: reps=0, delay=0', 'Clock instruction 30: reps=0, delay=0', 'Clock instruction 31: reps=0, delay=0', 'Trigger instruction 0: skips=0, delay=0', 'Clock config trigger reps: 0', 'Clock config is active: 0', 'Pulse config ID: 0', 'Pulse config sm: 0', 'Pulse config DMA channel: 0', 'Pulse config clock divider: 1', 'Pulse config pulse pin: 16', 'Pulse instruction 0: state=0, delay=0', 'Pulse instruction 1: state=0, delay=0', 'Pulse instruction 2: state=0, delay=0', 'Pulse instruction 3: state=0, delay=0', 'Pulse instruction 4: state=0, delay=0', 'Pulse instruction 5: state=0, delay=0', 'Pulse instruction 6: state=0, delay=0', 'Pulse instruction 7: state=0, delay=0', 'Pulse instruction 8: state=0, delay=0', 'Pulse instruction 9: state=0, delay=0', 'Pulse instruction 10: state=0, delay=0', 'Pulse instruction 11: state=0, delay=0', 'Pulse instruction 12: state=0, delay=0', 'Pulse instruction 13: state=0, delay=0', 'Pulse instruction 14: state=0, delay=0', 'Pulse instruction 15: state=0, delay=0', 'Pulse instruction 16: state=0, delay=0', 'Pulse instruction 17: state=0, delay=0', 'Pulse instruction 18: state=0, delay=0', 'Pulse instruction 19: state=0, delay=0', 'Pulse instruction 20: state=0, delay=0', 'Pulse instruction 21: state=0, delay=0', 'Pulse instruction 22: state=0, delay=0', 'Pulse instruction 23: state=0, delay=0', 'Pulse instruction 24: state=0, delay=0', 'Pulse instruction 25: state=0, delay=0', 'Pulse instruction 26: state=0, delay=0', 'Pulse instruction 27: state=0, delay=0', 'Pulse instruction 28: state=0, delay=0', 'Pulse instruction 29: state=0, delay=0', 'Pulse instruction 30: state=0, delay=0', 'Pulse instruction 31: state=0, delay=0', 'Pulse config is active: 0', 'Pulse config ID: 1', 'Pulse config sm: 1', 'Pulse config DMA channel: 0', 'Pulse config clock divider: 1', 'Pulse config pulse pin: 16', 'Pulse instruction 0: state=0, delay=0', 'Pulse instruction 1: state=0, delay=0', 'Pulse instruction 2: state=0, delay=0', 'Pulse instruction 3: state=0, delay=0', 'Pulse instruction 4: state=0, delay=0', 'Pulse instruction 5: state=0, delay=0', 'Pulse instruction 6: state=0, delay=0', 'Pulse instruction 7: state=0, delay=0', 'Pulse instruction 8: state=0, delay=0', 'Pulse instruction 9: state=0, delay=0', 'Pulse instruction 10: state=0, delay=0', 'Pulse instruction 11: state=0, delay=0', 'Pulse instruction 12: state=0, delay=0', 'Pulse instruction 13: state=0, delay=0', 'Pulse instruction 14: state=0, delay=0', 'Pulse instruction 15: state=0, delay=0', 'Pulse instruction 16: state=0, delay=0', 'Pulse instruction 17: state=0, delay=0', 'Pulse instruction 18: state=0, delay=0', 'Pulse instruction 19: state=0, delay=0', 'Pulse instruction 20: state=0, delay=0', 'Pulse instruction 21: state=0, delay=0', 'Pulse instruction 22: state=0, delay=0', 'Pulse instruction 23: state=0, delay=0', 'Pulse instruction 24: state=0, delay=0', 'Pulse instruction 25: state=0, delay=0', 'Pulse instruction 26: state=0, delay=0', 'Pulse instruction 27: state=0, delay=0', 'Pulse instruction 28: state=0, delay=0', 'Pulse instruction 29: state=0, delay=0', 'Pulse instruction 30: state=0, delay=0', 'Pulse instruction 31: state=0, delay=0', 'Pulse config is active: 0', 'Pulse config ID: 2', 'Pulse config sm: 2', 'Pulse config DMA channel: 0', 'Pulse config clock divider: 1', 'Pulse config pulse pin: 16', 'Pulse instruction 0: state=0, delay=0', 'Pulse instruction 1: state=0, delay=0', 'Pulse instruction 2: state=0, delay=0', 'Pulse instruction 3: state=0, delay=0', 'Pulse instruction 4: state=0, delay=0', 'Pulse instruction 5: state=0, delay=0', 'Pulse instruction 6: state=0, delay=0', 'Pulse instruction 7: state=0, delay=0', 'Pulse instruction 8: state=0, delay=0', 'Pulse instruction 9: state=0, delay=0', 'Pulse instruction 10: state=0, delay=0', 'Pulse instruction 11: state=0, delay=0', 'Pulse instruction 12: state=0, delay=0', 'Pulse instruction 13: state=0, delay=0', 'Pulse instruction 14: state=0, delay=0', 'Pulse instruction 15: state=0, delay=0', 'Pulse instruction 16: state=0, delay=0', 'Pulse instruction 17: state=0, delay=0', 'Pulse instruction 18: state=0, delay=0', 'Pulse instruction 19: state=0, delay=0', 'Pulse instruction 20: state=0, delay=0', 'Pulse instruction 21: state=0, delay=0', 'Pulse instruction 22: state=0, delay=0', 'Pulse instruction 23: state=0, delay=0', 'Pulse instruction 24: state=0, delay=0', 'Pulse instruction 25: state=0, delay=0', 'Pulse instruction 26: state=0, delay=0', 'Pulse instruction 27: state=0, delay=0', 'Pulse instruction 28: state=0, delay=0', 'Pulse instruction 29: state=0, delay=0', 'Pulse instruction 30: state=0, delay=0', 'Pulse instruction 31: state=0, delay=0', 'Pulse config is active: 0', 'Internal Message: Aborting arming sequence due to debugging level 1']\n",
      "['Invalid request: Can only abort when status is 2 (RUNNING)']\n"
     ]
    }
   ],
   "source": [
    "with comm.device_comm_managed(avail_ports[0]) as sync_device:\n",
    "    # Set debug status to 1 (print internal logs then abort sequence)\n",
    "    comm.device_comm_write(\n",
    "        sync_device,\n",
    "        'dbug 1'\n",
    "    )\n",
    "\n",
    "    # Execute with current pulse and clock configs\n",
    "    print(system.device_system_fire(sync_device))\n",
    "    \n",
    "    # Emits error because debug level 1 aborts the sequence\n",
    "    print(system.device_system_stop(sync_device))"
   ]
  },
  {
   "cell_type": "code",
   "execution_count": null,
   "id": "656d8dd6-d5a8-4ffd-8b28-060692e22b60",
   "metadata": {},
   "outputs": [],
   "source": []
  }
 ],
 "metadata": {
  "kernelspec": {
   "display_name": "Python 3 (ipykernel)",
   "language": "python",
   "name": "python3"
  },
  "language_info": {
   "codemirror_mode": {
    "name": "ipython",
    "version": 3
   },
   "file_extension": ".py",
   "mimetype": "text/x-python",
   "name": "python",
   "nbconvert_exporter": "python",
   "pygments_lexer": "ipython3",
   "version": "3.12.8"
  }
 },
 "nbformat": 4,
 "nbformat_minor": 5
}
